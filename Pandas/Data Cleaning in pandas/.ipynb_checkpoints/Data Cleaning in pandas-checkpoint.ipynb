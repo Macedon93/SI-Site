{
 "cells": [
  {
   "cell_type": "markdown",
   "metadata": {
    "slideshow": {
     "slide_type": "slide"
    }
   },
   "source": [
    "## Stephen Ivkov\n"
   ]
  },
  {
   "cell_type": "markdown",
   "metadata": {
    "slideshow": {
     "slide_type": "slide"
    }
   },
   "source": [
    "The file name is data.csv. It contains the information of all municipalities in New Jersery. Here are the column names explained. Im using functions and operations in pandas to find some cool insights in this dataset.\n",
    "\n",
    "* Municipality: the name of the municipality \n",
    "* County: the county that the municipality belongs to \n",
    "* POP2010: the population of a municipality in 2010 \n",
    "* POP2017: the population of a municipality in 2017 \n",
    "* MunicipalType: the type of a municipality\n",
    " "
   ]
  },
  {
   "cell_type": "code",
   "execution_count": 8,
   "metadata": {
    "slideshow": {
     "slide_type": "slide"
    }
   },
   "outputs": [],
   "source": [
    "#import libs\n",
    "import numpy as np\n",
    "import pandas as pd"
   ]
  },
  {
   "cell_type": "markdown",
   "metadata": {
    "slideshow": {
     "slide_type": "slide"
    }
   },
   "source": [
    "Here im reading the file data.csv into pandas and naming it.   "
   ]
  },
  {
   "cell_type": "code",
   "execution_count": 3,
   "metadata": {
    "scrolled": true,
    "slideshow": {
     "slide_type": "fragment"
    }
   },
   "outputs": [
    {
     "data": {
      "text/html": [
       "<div>\n",
       "<style scoped>\n",
       "    .dataframe tbody tr th:only-of-type {\n",
       "        vertical-align: middle;\n",
       "    }\n",
       "\n",
       "    .dataframe tbody tr th {\n",
       "        vertical-align: top;\n",
       "    }\n",
       "\n",
       "    .dataframe thead th {\n",
       "        text-align: right;\n",
       "    }\n",
       "</style>\n",
       "<table border=\"1\" class=\"dataframe\">\n",
       "  <thead>\n",
       "    <tr style=\"text-align: right;\">\n",
       "      <th></th>\n",
       "      <th>County</th>\n",
       "      <th>POP2010</th>\n",
       "      <th>POP2017</th>\n",
       "      <th>MunicipalType</th>\n",
       "    </tr>\n",
       "    <tr>\n",
       "      <th>Municipality</th>\n",
       "      <th></th>\n",
       "      <th></th>\n",
       "      <th></th>\n",
       "      <th></th>\n",
       "    </tr>\n",
       "  </thead>\n",
       "  <tbody>\n",
       "    <tr>\n",
       "      <td>Aberdeen</td>\n",
       "      <td>Monmouth</td>\n",
       "      <td>18157</td>\n",
       "      <td>18232</td>\n",
       "      <td>Township</td>\n",
       "    </tr>\n",
       "    <tr>\n",
       "      <td>Absecon</td>\n",
       "      <td>Atlantic</td>\n",
       "      <td>8411</td>\n",
       "      <td>8283</td>\n",
       "      <td>City</td>\n",
       "    </tr>\n",
       "    <tr>\n",
       "      <td>Alexandria Township</td>\n",
       "      <td>Hunterdon</td>\n",
       "      <td>4938</td>\n",
       "      <td>4805</td>\n",
       "      <td>Township</td>\n",
       "    </tr>\n",
       "    <tr>\n",
       "      <td>Allamuchy</td>\n",
       "      <td>Warren</td>\n",
       "      <td>4323</td>\n",
       "      <td>4644</td>\n",
       "      <td>Township</td>\n",
       "    </tr>\n",
       "    <tr>\n",
       "      <td>Allendale</td>\n",
       "      <td>Bergen</td>\n",
       "      <td>6505</td>\n",
       "      <td>6906</td>\n",
       "      <td>Borough</td>\n",
       "    </tr>\n",
       "    <tr>\n",
       "      <td>...</td>\n",
       "      <td>...</td>\n",
       "      <td>...</td>\n",
       "      <td>...</td>\n",
       "      <td>...</td>\n",
       "    </tr>\n",
       "    <tr>\n",
       "      <td>Woodlynne</td>\n",
       "      <td>Camden</td>\n",
       "      <td>2978</td>\n",
       "      <td>2947</td>\n",
       "      <td>Borough</td>\n",
       "    </tr>\n",
       "    <tr>\n",
       "      <td>Woodstown</td>\n",
       "      <td>Salem</td>\n",
       "      <td>3505</td>\n",
       "      <td>3454</td>\n",
       "      <td>Borough</td>\n",
       "    </tr>\n",
       "    <tr>\n",
       "      <td>Woolwich Township</td>\n",
       "      <td>Gloucester</td>\n",
       "      <td>10200</td>\n",
       "      <td>12472</td>\n",
       "      <td>Township</td>\n",
       "    </tr>\n",
       "    <tr>\n",
       "      <td>Wrightstown</td>\n",
       "      <td>Burlington</td>\n",
       "      <td>802</td>\n",
       "      <td>785</td>\n",
       "      <td>Borough</td>\n",
       "    </tr>\n",
       "    <tr>\n",
       "      <td>Wyckoff</td>\n",
       "      <td>Bergen</td>\n",
       "      <td>16635</td>\n",
       "      <td>16941</td>\n",
       "      <td>Township</td>\n",
       "    </tr>\n",
       "  </tbody>\n",
       "</table>\n",
       "<p>565 rows × 4 columns</p>\n",
       "</div>"
      ],
      "text/plain": [
       "                         County  POP2010  POP2017 MunicipalType\n",
       "Municipality                                                   \n",
       "Aberdeen               Monmouth    18157    18232      Township\n",
       "Absecon                Atlantic     8411     8283          City\n",
       "Alexandria Township   Hunterdon     4938     4805      Township\n",
       "Allamuchy                Warren     4323     4644      Township\n",
       "Allendale                Bergen     6505     6906       Borough\n",
       "...                         ...      ...      ...           ...\n",
       "Woodlynne                Camden     2978     2947       Borough\n",
       "Woodstown                 Salem     3505     3454       Borough\n",
       "Woolwich Township    Gloucester    10200    12472      Township\n",
       "Wrightstown          Burlington      802      785       Borough\n",
       "Wyckoff                  Bergen    16635    16941      Township\n",
       "\n",
       "[565 rows x 4 columns]"
      ]
     },
     "execution_count": 3,
     "metadata": {},
     "output_type": "execute_result"
    }
   ],
   "source": [
    "df = pd.read_csv (\"data.csv\", thousands=',', index_col=\"Municipality\")\n",
    "df"
   ]
  },
  {
   "cell_type": "markdown",
   "metadata": {
    "slideshow": {
     "slide_type": "slide"
    }
   },
   "source": [
    "Lets find the municipality with the largest population in 2017."
   ]
  },
  {
   "cell_type": "code",
   "execution_count": 4,
   "metadata": {
    "slideshow": {
     "slide_type": "slide"
    }
   },
   "outputs": [
    {
     "data": {
      "text/plain": [
       "'Newark'"
      ]
     },
     "execution_count": 4,
     "metadata": {},
     "output_type": "execute_result"
    }
   ],
   "source": [
    "df[\"POP2017\"].idxmax()\n"
   ]
  },
  {
   "cell_type": "markdown",
   "metadata": {
    "slideshow": {
     "slide_type": "slide"
    }
   },
   "source": [
    "How many municipalities are there in each county? \n"
   ]
  },
  {
   "cell_type": "code",
   "execution_count": 5,
   "metadata": {
    "slideshow": {
     "slide_type": "slide"
    }
   },
   "outputs": [
    {
     "data": {
      "text/plain": [
       "Bergen        70\n",
       "Monmouth      53\n",
       "Burlington    40\n",
       "Morris        39\n",
       "Camden        37\n",
       "Ocean         33\n",
       "Hunterdon     26\n",
       "Middlesex     25\n",
       "Gloucester    24\n",
       "Sussex        24\n",
       "Atlantic      23\n",
       "Essex         22\n",
       "Warren        22\n",
       "Somerset      21\n",
       "Union         21\n",
       "Passaic       16\n",
       "Cape May      16\n",
       "Salem         15\n",
       "Cumberland    14\n",
       "Mercer        12\n",
       "Hudson        12\n",
       "Name: County, dtype: int64"
      ]
     },
     "execution_count": 5,
     "metadata": {},
     "output_type": "execute_result"
    }
   ],
   "source": [
    "df['County'].value_counts()"
   ]
  },
  {
   "cell_type": "markdown",
   "metadata": {
    "slideshow": {
     "slide_type": "slide"
    }
   },
   "source": [
    "Which municipality has the largest increasing in population from 2010 to 2017? "
   ]
  },
  {
   "cell_type": "code",
   "execution_count": 6,
   "metadata": {
    "slideshow": {
     "slide_type": "slide"
    }
   },
   "outputs": [
    {
     "data": {
      "text/plain": [
       "'Jersey City'"
      ]
     },
     "execution_count": 6,
     "metadata": {},
     "output_type": "execute_result"
    }
   ],
   "source": [
    "difference = df[\"POP2017\"]-df['POP2010']\n",
    "difference.idxmax()"
   ]
  },
  {
   "cell_type": "markdown",
   "metadata": {
    "slideshow": {
     "slide_type": "slide"
    }
   },
   "source": [
    "What is the total population of the Essex county in 2017? "
   ]
  },
  {
   "cell_type": "code",
   "execution_count": 7,
   "metadata": {
    "slideshow": {
     "slide_type": "slide"
    }
   },
   "outputs": [
    {
     "data": {
      "text/plain": [
       "807959"
      ]
     },
     "execution_count": 7,
     "metadata": {},
     "output_type": "execute_result"
    }
   ],
   "source": [
    "df[df[\"County\"]==\"Essex\"]['POP2017'].sum()\n"
   ]
  },
  {
   "cell_type": "markdown",
   "metadata": {
    "slideshow": {
     "slide_type": "slide"
    }
   },
   "source": [
    "Lets find the top five municipalities in population of 2017. List their county and the population of 2017. The output should be a dataFrame with two columns 'County' and 'POP2017', and the municipality as the index."
   ]
  },
  {
   "cell_type": "code",
   "execution_count": 10,
   "metadata": {
    "scrolled": true,
    "slideshow": {
     "slide_type": "slide"
    }
   },
   "outputs": [
    {
     "data": {
      "text/html": [
       "<div>\n",
       "<style scoped>\n",
       "    .dataframe tbody tr th:only-of-type {\n",
       "        vertical-align: middle;\n",
       "    }\n",
       "\n",
       "    .dataframe tbody tr th {\n",
       "        vertical-align: top;\n",
       "    }\n",
       "\n",
       "    .dataframe thead th {\n",
       "        text-align: right;\n",
       "    }\n",
       "</style>\n",
       "<table border=\"1\" class=\"dataframe\">\n",
       "  <thead>\n",
       "    <tr style=\"text-align: right;\">\n",
       "      <th></th>\n",
       "      <th>County</th>\n",
       "      <th>POP2017</th>\n",
       "    </tr>\n",
       "    <tr>\n",
       "      <th>Municipality</th>\n",
       "      <th></th>\n",
       "      <th></th>\n",
       "    </tr>\n",
       "  </thead>\n",
       "  <tbody>\n",
       "    <tr>\n",
       "      <td>Jersey City</td>\n",
       "      <td>Hudson</td>\n",
       "      <td>270753</td>\n",
       "    </tr>\n",
       "    <tr>\n",
       "      <td>Paterson</td>\n",
       "      <td>Passaic</td>\n",
       "      <td>148678</td>\n",
       "    </tr>\n",
       "    <tr>\n",
       "      <td>Elizabeth</td>\n",
       "      <td>Union</td>\n",
       "      <td>130215</td>\n",
       "    </tr>\n",
       "    <tr>\n",
       "      <td>Lakewood</td>\n",
       "      <td>Ocean</td>\n",
       "      <td>102682</td>\n",
       "    </tr>\n",
       "    <tr>\n",
       "      <td>Edison</td>\n",
       "      <td>Middlesex</td>\n",
       "      <td>102450</td>\n",
       "    </tr>\n",
       "  </tbody>\n",
       "</table>\n",
       "</div>"
      ],
      "text/plain": [
       "                 County  POP2017\n",
       "Municipality                    \n",
       "Jersey City      Hudson   270753\n",
       "Paterson        Passaic   148678\n",
       "Elizabeth         Union   130215\n",
       "Lakewood          Ocean   102682\n",
       "Edison        Middlesex   102450"
      ]
     },
     "execution_count": 10,
     "metadata": {},
     "output_type": "execute_result"
    }
   ],
   "source": [
    "df2=df.sort_values(by='POP2017', ascending=False)\n",
    "df2.iloc[1:6, [0,2]]\n"
   ]
  },
  {
   "cell_type": "markdown",
   "metadata": {
    "slideshow": {
     "slide_type": "slide"
    }
   },
   "source": [
    "What is the name of the township with the most population in 2010?"
   ]
  },
  {
   "cell_type": "code",
   "execution_count": 12,
   "metadata": {
    "scrolled": true,
    "slideshow": {
     "slide_type": "skip"
    }
   },
   "outputs": [
    {
     "data": {
      "text/html": [
       "<div>\n",
       "<style scoped>\n",
       "    .dataframe tbody tr th:only-of-type {\n",
       "        vertical-align: middle;\n",
       "    }\n",
       "\n",
       "    .dataframe tbody tr th {\n",
       "        vertical-align: top;\n",
       "    }\n",
       "\n",
       "    .dataframe thead th {\n",
       "        text-align: right;\n",
       "    }\n",
       "</style>\n",
       "<table border=\"1\" class=\"dataframe\">\n",
       "  <thead>\n",
       "    <tr style=\"text-align: right;\">\n",
       "      <th></th>\n",
       "      <th>County</th>\n",
       "      <th>POP2010</th>\n",
       "      <th>POP2017</th>\n",
       "      <th>MunicipalType</th>\n",
       "    </tr>\n",
       "    <tr>\n",
       "      <th>Municipality</th>\n",
       "      <th></th>\n",
       "      <th></th>\n",
       "      <th></th>\n",
       "      <th></th>\n",
       "    </tr>\n",
       "  </thead>\n",
       "  <tbody>\n",
       "    <tr>\n",
       "      <td>Newark</td>\n",
       "      <td>Essex</td>\n",
       "      <td>277140</td>\n",
       "      <td>285154</td>\n",
       "      <td>City</td>\n",
       "    </tr>\n",
       "    <tr>\n",
       "      <td>Jersey City</td>\n",
       "      <td>Hudson</td>\n",
       "      <td>247597</td>\n",
       "      <td>270753</td>\n",
       "      <td>City</td>\n",
       "    </tr>\n",
       "    <tr>\n",
       "      <td>Paterson</td>\n",
       "      <td>Passaic</td>\n",
       "      <td>146199</td>\n",
       "      <td>148678</td>\n",
       "      <td>City</td>\n",
       "    </tr>\n",
       "    <tr>\n",
       "      <td>Elizabeth</td>\n",
       "      <td>Union</td>\n",
       "      <td>124969</td>\n",
       "      <td>130215</td>\n",
       "      <td>City</td>\n",
       "    </tr>\n",
       "    <tr>\n",
       "      <td>Edison</td>\n",
       "      <td>Middlesex</td>\n",
       "      <td>99967</td>\n",
       "      <td>102450</td>\n",
       "      <td>Township</td>\n",
       "    </tr>\n",
       "    <tr>\n",
       "      <td>...</td>\n",
       "      <td>...</td>\n",
       "      <td>...</td>\n",
       "      <td>...</td>\n",
       "      <td>...</td>\n",
       "    </tr>\n",
       "    <tr>\n",
       "      <td>Loch Arbour</td>\n",
       "      <td>Monmouth</td>\n",
       "      <td>194</td>\n",
       "      <td>183</td>\n",
       "      <td>Village</td>\n",
       "    </tr>\n",
       "    <tr>\n",
       "      <td>Teterboro</td>\n",
       "      <td>Bergen</td>\n",
       "      <td>67</td>\n",
       "      <td>69</td>\n",
       "      <td>Borough</td>\n",
       "    </tr>\n",
       "    <tr>\n",
       "      <td>Walpack Township</td>\n",
       "      <td>Sussex</td>\n",
       "      <td>16</td>\n",
       "      <td>11</td>\n",
       "      <td>Township</td>\n",
       "    </tr>\n",
       "    <tr>\n",
       "      <td>Pine Valley</td>\n",
       "      <td>Camden</td>\n",
       "      <td>12</td>\n",
       "      <td>11</td>\n",
       "      <td>Borough</td>\n",
       "    </tr>\n",
       "    <tr>\n",
       "      <td>Tavistock</td>\n",
       "      <td>Camden</td>\n",
       "      <td>5</td>\n",
       "      <td>5</td>\n",
       "      <td>Borough</td>\n",
       "    </tr>\n",
       "  </tbody>\n",
       "</table>\n",
       "<p>565 rows × 4 columns</p>\n",
       "</div>"
      ],
      "text/plain": [
       "                     County  POP2010  POP2017 MunicipalType\n",
       "Municipality                                               \n",
       "Newark                Essex   277140   285154          City\n",
       "Jersey City          Hudson   247597   270753          City\n",
       "Paterson            Passaic   146199   148678          City\n",
       "Elizabeth             Union   124969   130215          City\n",
       "Edison            Middlesex    99967   102450      Township\n",
       "...                     ...      ...      ...           ...\n",
       "Loch Arbour        Monmouth      194      183       Village\n",
       "Teterboro            Bergen       67       69       Borough\n",
       "Walpack Township     Sussex       16       11      Township\n",
       "Pine Valley          Camden       12       11       Borough\n",
       "Tavistock            Camden        5        5       Borough\n",
       "\n",
       "[565 rows x 4 columns]"
      ]
     },
     "execution_count": 12,
     "metadata": {},
     "output_type": "execute_result"
    }
   ],
   "source": [
    "df3=df.sort_values(by='POP2010', ascending=False)\n",
    "df3"
   ]
  },
  {
   "cell_type": "markdown",
   "metadata": {
    "slideshow": {
     "slide_type": "slide"
    }
   },
   "source": [
    "How many boroughs are there in each county? "
   ]
  },
  {
   "cell_type": "code",
   "execution_count": 15,
   "metadata": {
    "slideshow": {
     "slide_type": "skip"
    }
   },
   "outputs": [
    {
     "data": {
      "text/plain": [
       "County\n",
       "Atlantic      4\n",
       "Bergen        4\n",
       "Burlington    3\n",
       "Camden        3\n",
       "Cape May      3\n",
       "Cumberland    3\n",
       "Essex         3\n",
       "Gloucester    3\n",
       "Hudson        4\n",
       "Hunterdon     4\n",
       "Mercer        3\n",
       "Middlesex     3\n",
       "Monmouth      4\n",
       "Morris        3\n",
       "Ocean         2\n",
       "Passaic       3\n",
       "Salem         3\n",
       "Somerset      2\n",
       "Sussex        3\n",
       "Union         4\n",
       "Warren        3\n",
       "Name: MunicipalType, dtype: int64"
      ]
     },
     "execution_count": 15,
     "metadata": {},
     "output_type": "execute_result"
    }
   ],
   "source": [
    "unique_counties = df.groupby('County')['MunicipalType'].nunique()\n",
    "unique_counties"
   ]
  },
  {
   "cell_type": "markdown",
   "metadata": {
    "slideshow": {
     "slide_type": "slide"
    }
   },
   "source": [
    "What is the total population of the Morris county in 2010? The output should be an integer. "
   ]
  },
  {
   "cell_type": "code",
   "execution_count": 16,
   "metadata": {
    "slideshow": {
     "slide_type": "skip"
    }
   },
   "outputs": [
    {
     "data": {
      "text/plain": [
       "490286"
      ]
     },
     "execution_count": 16,
     "metadata": {},
     "output_type": "execute_result"
    }
   ],
   "source": [
    "df3[df3[\"County\"]==\"Morris\"]['POP2010'].sum()"
   ]
  },
  {
   "cell_type": "markdown",
   "metadata": {
    "slideshow": {
     "slide_type": "slide"
    }
   },
   "source": [
    "Lets find the five municipalities with the smallest population of 2010."
   ]
  },
  {
   "cell_type": "code",
   "execution_count": 17,
   "metadata": {
    "slideshow": {
     "slide_type": "skip"
    }
   },
   "outputs": [
    {
     "data": {
      "text/html": [
       "<div>\n",
       "<style scoped>\n",
       "    .dataframe tbody tr th:only-of-type {\n",
       "        vertical-align: middle;\n",
       "    }\n",
       "\n",
       "    .dataframe tbody tr th {\n",
       "        vertical-align: top;\n",
       "    }\n",
       "\n",
       "    .dataframe thead th {\n",
       "        text-align: right;\n",
       "    }\n",
       "</style>\n",
       "<table border=\"1\" class=\"dataframe\">\n",
       "  <thead>\n",
       "    <tr style=\"text-align: right;\">\n",
       "      <th></th>\n",
       "      <th>County</th>\n",
       "      <th>POP2010</th>\n",
       "      <th>MunicipalType</th>\n",
       "    </tr>\n",
       "    <tr>\n",
       "      <th>Municipality</th>\n",
       "      <th></th>\n",
       "      <th></th>\n",
       "      <th></th>\n",
       "    </tr>\n",
       "  </thead>\n",
       "  <tbody>\n",
       "    <tr>\n",
       "      <td>Pine Valley</td>\n",
       "      <td>Camden</td>\n",
       "      <td>12</td>\n",
       "      <td>Borough</td>\n",
       "    </tr>\n",
       "    <tr>\n",
       "      <td>Walpack Township</td>\n",
       "      <td>Sussex</td>\n",
       "      <td>16</td>\n",
       "      <td>Township</td>\n",
       "    </tr>\n",
       "    <tr>\n",
       "      <td>Teterboro</td>\n",
       "      <td>Bergen</td>\n",
       "      <td>67</td>\n",
       "      <td>Borough</td>\n",
       "    </tr>\n",
       "    <tr>\n",
       "      <td>Loch Arbour</td>\n",
       "      <td>Monmouth</td>\n",
       "      <td>194</td>\n",
       "      <td>Village</td>\n",
       "    </tr>\n",
       "    <tr>\n",
       "      <td>Cape May Point</td>\n",
       "      <td>Cape May</td>\n",
       "      <td>291</td>\n",
       "      <td>Borough</td>\n",
       "    </tr>\n",
       "  </tbody>\n",
       "</table>\n",
       "</div>"
      ],
      "text/plain": [
       "                    County  POP2010 MunicipalType\n",
       "Municipality                                     \n",
       "Pine Valley         Camden       12       Borough\n",
       "Walpack Township    Sussex       16      Township\n",
       "Teterboro           Bergen       67       Borough\n",
       "Loch Arbour       Monmouth      194       Village\n",
       "Cape May Point    Cape May      291       Borough"
      ]
     },
     "execution_count": 17,
     "metadata": {},
     "output_type": "execute_result"
    }
   ],
   "source": [
    "df4=df.sort_values(by='POP2010', ascending=True)\n",
    "df4.iloc[1:6, [0,1,3]]"
   ]
  }
 ],
 "metadata": {
  "kernelspec": {
   "display_name": "Python 3",
   "language": "python",
   "name": "python3"
  },
  "language_info": {
   "codemirror_mode": {
    "name": "ipython",
    "version": 3
   },
   "file_extension": ".py",
   "mimetype": "text/x-python",
   "name": "python",
   "nbconvert_exporter": "python",
   "pygments_lexer": "ipython3",
   "version": "3.7.4"
  }
 },
 "nbformat": 4,
 "nbformat_minor": 2
}
