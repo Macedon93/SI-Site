{
 "cells": [
  {
   "cell_type": "markdown",
   "metadata": {
    "slideshow": {
     "slide_type": "slide"
    }
   },
   "source": [
    "# CSIT 356: Assignment 2\n",
    "## Stephen Ivkov\n",
    "## 10797156"
   ]
  },
  {
   "cell_type": "markdown",
   "metadata": {
    "slideshow": {
     "slide_type": "slide"
    }
   },
   "source": [
    "### Instruction\n",
    "The file name is data.csv. It contains the information of all municipalities in New Jersery. The meaning of each colunmn is as follows:\n",
    "\n",
    "* Municipality: the name of the municipality \n",
    "* County: the county that the municipality belongs to \n",
    "* POP2010: the population of a municipality in 2010 \n",
    "* POP2017: the population of a municipality in 2017 \n",
    "* MunicipalType: the type of a municipality\n",
    "\n",
    "In this assignment, please use the functions and operations in pandas to answer the following questions. \n",
    "\n",
    "\n",
    "#### About submission\n",
    "This assignment is due at 11:59 pm on Oct. 21st. You need to finish all questions of both In-class Assginment and Homework. Name your ipynb file as StudentName_assignment2.ipynb and submit it on Canvas.\n",
    "\n",
    "PLEASE ENSURE THAT THE SCRIPT CAN CORRECTLY EXECUTE!!!"
   ]
  },
  {
   "cell_type": "code",
   "execution_count": 1,
   "metadata": {
    "slideshow": {
     "slide_type": "slide"
    }
   },
   "outputs": [],
   "source": [
    "# import pandas\n",
    "# Don't delete this cell\n",
    "import numpy as np\n",
    "import pandas as pd"
   ]
  },
  {
   "cell_type": "markdown",
   "metadata": {
    "slideshow": {
     "slide_type": "slide"
    }
   },
   "source": [
    "## In-class Exercise"
   ]
  },
  {
   "cell_type": "markdown",
   "metadata": {
    "slideshow": {
     "slide_type": "slide"
    }
   },
   "source": [
    "## Exercise 0 \n",
    "Read the file data.csv as a dataFrame named **df**. Assign the column 'Municipal' as the row index.   \n",
    "  \n",
    "#### Note  \n",
    "1. Use **read_csv** to read the file to be a dataFrame\n",
    "2. Set the argument **index_col** to be the name of the first column\n",
    "3. Set the argument **thousands** to be ',' since there are thousand separators in the file"
   ]
  },
  {
   "cell_type": "code",
   "execution_count": 2,
   "metadata": {
    "scrolled": true,
    "slideshow": {
     "slide_type": "fragment"
    }
   },
   "outputs": [
    {
     "data": {
      "text/html": [
       "<div>\n",
       "<style scoped>\n",
       "    .dataframe tbody tr th:only-of-type {\n",
       "        vertical-align: middle;\n",
       "    }\n",
       "\n",
       "    .dataframe tbody tr th {\n",
       "        vertical-align: top;\n",
       "    }\n",
       "\n",
       "    .dataframe thead th {\n",
       "        text-align: right;\n",
       "    }\n",
       "</style>\n",
       "<table border=\"1\" class=\"dataframe\">\n",
       "  <thead>\n",
       "    <tr style=\"text-align: right;\">\n",
       "      <th></th>\n",
       "      <th>County</th>\n",
       "      <th>POP2010</th>\n",
       "      <th>POP2017</th>\n",
       "      <th>MunicipalType</th>\n",
       "    </tr>\n",
       "    <tr>\n",
       "      <th>Municipality</th>\n",
       "      <th></th>\n",
       "      <th></th>\n",
       "      <th></th>\n",
       "      <th></th>\n",
       "    </tr>\n",
       "  </thead>\n",
       "  <tbody>\n",
       "    <tr>\n",
       "      <td>Aberdeen</td>\n",
       "      <td>Monmouth</td>\n",
       "      <td>18157</td>\n",
       "      <td>18232</td>\n",
       "      <td>Township</td>\n",
       "    </tr>\n",
       "    <tr>\n",
       "      <td>Absecon</td>\n",
       "      <td>Atlantic</td>\n",
       "      <td>8411</td>\n",
       "      <td>8283</td>\n",
       "      <td>City</td>\n",
       "    </tr>\n",
       "    <tr>\n",
       "      <td>Alexandria Township</td>\n",
       "      <td>Hunterdon</td>\n",
       "      <td>4938</td>\n",
       "      <td>4805</td>\n",
       "      <td>Township</td>\n",
       "    </tr>\n",
       "    <tr>\n",
       "      <td>Allamuchy</td>\n",
       "      <td>Warren</td>\n",
       "      <td>4323</td>\n",
       "      <td>4644</td>\n",
       "      <td>Township</td>\n",
       "    </tr>\n",
       "    <tr>\n",
       "      <td>Allendale</td>\n",
       "      <td>Bergen</td>\n",
       "      <td>6505</td>\n",
       "      <td>6906</td>\n",
       "      <td>Borough</td>\n",
       "    </tr>\n",
       "    <tr>\n",
       "      <td>...</td>\n",
       "      <td>...</td>\n",
       "      <td>...</td>\n",
       "      <td>...</td>\n",
       "      <td>...</td>\n",
       "    </tr>\n",
       "    <tr>\n",
       "      <td>Woodlynne</td>\n",
       "      <td>Camden</td>\n",
       "      <td>2978</td>\n",
       "      <td>2947</td>\n",
       "      <td>Borough</td>\n",
       "    </tr>\n",
       "    <tr>\n",
       "      <td>Woodstown</td>\n",
       "      <td>Salem</td>\n",
       "      <td>3505</td>\n",
       "      <td>3454</td>\n",
       "      <td>Borough</td>\n",
       "    </tr>\n",
       "    <tr>\n",
       "      <td>Woolwich Township</td>\n",
       "      <td>Gloucester</td>\n",
       "      <td>10200</td>\n",
       "      <td>12472</td>\n",
       "      <td>Township</td>\n",
       "    </tr>\n",
       "    <tr>\n",
       "      <td>Wrightstown</td>\n",
       "      <td>Burlington</td>\n",
       "      <td>802</td>\n",
       "      <td>785</td>\n",
       "      <td>Borough</td>\n",
       "    </tr>\n",
       "    <tr>\n",
       "      <td>Wyckoff</td>\n",
       "      <td>Bergen</td>\n",
       "      <td>16635</td>\n",
       "      <td>16941</td>\n",
       "      <td>Township</td>\n",
       "    </tr>\n",
       "  </tbody>\n",
       "</table>\n",
       "<p>565 rows × 4 columns</p>\n",
       "</div>"
      ],
      "text/plain": [
       "                         County  POP2010  POP2017 MunicipalType\n",
       "Municipality                                                   \n",
       "Aberdeen               Monmouth    18157    18232      Township\n",
       "Absecon                Atlantic     8411     8283          City\n",
       "Alexandria Township   Hunterdon     4938     4805      Township\n",
       "Allamuchy                Warren     4323     4644      Township\n",
       "Allendale                Bergen     6505     6906       Borough\n",
       "...                         ...      ...      ...           ...\n",
       "Woodlynne                Camden     2978     2947       Borough\n",
       "Woodstown                 Salem     3505     3454       Borough\n",
       "Woolwich Township    Gloucester    10200    12472      Township\n",
       "Wrightstown          Burlington      802      785       Borough\n",
       "Wyckoff                  Bergen    16635    16941      Township\n",
       "\n",
       "[565 rows x 4 columns]"
      ]
     },
     "execution_count": 2,
     "metadata": {},
     "output_type": "execute_result"
    }
   ],
   "source": [
    "df = pd.read_csv (\"data.csv\", thousands=',', index_col=\"Municipality\")\n",
    "df"
   ]
  },
  {
   "cell_type": "markdown",
   "metadata": {
    "slideshow": {
     "slide_type": "slide"
    }
   },
   "source": [
    "## Exercise 1 (5 points)\n",
    "What is the name of the municipality with the most population in 2017? "
   ]
  },
  {
   "cell_type": "code",
   "execution_count": 3,
   "metadata": {
    "slideshow": {
     "slide_type": "slide"
    }
   },
   "outputs": [
    {
     "data": {
      "text/plain": [
       "'Newark'"
      ]
     },
     "execution_count": 3,
     "metadata": {},
     "output_type": "execute_result"
    }
   ],
   "source": [
    "df[\"POP2017\"].idxmax()\n"
   ]
  },
  {
   "cell_type": "markdown",
   "metadata": {
    "slideshow": {
     "slide_type": "slide"
    }
   },
   "source": [
    "## Exercise 2  (5 points)\n",
    "How many municipalities are there in each county? The output should be a Series with the county name as the index and the number as the value.  \n",
    "#### Hint: \n",
    "Choose the column of 'County' and use **values_counts** function to calculate the frequencies of values in that column. "
   ]
  },
  {
   "cell_type": "code",
   "execution_count": 4,
   "metadata": {
    "slideshow": {
     "slide_type": "slide"
    }
   },
   "outputs": [
    {
     "data": {
      "text/plain": [
       "Bergen        70\n",
       "Monmouth      53\n",
       "Burlington    40\n",
       "Morris        39\n",
       "Camden        37\n",
       "Ocean         33\n",
       "Hunterdon     26\n",
       "Middlesex     25\n",
       "Gloucester    24\n",
       "Sussex        24\n",
       "Atlantic      23\n",
       "Warren        22\n",
       "Essex         22\n",
       "Union         21\n",
       "Somerset      21\n",
       "Cape May      16\n",
       "Passaic       16\n",
       "Salem         15\n",
       "Cumberland    14\n",
       "Mercer        12\n",
       "Hudson        12\n",
       "Name: County, dtype: int64"
      ]
     },
     "execution_count": 4,
     "metadata": {},
     "output_type": "execute_result"
    }
   ],
   "source": [
    "df['County'].value_counts()"
   ]
  },
  {
   "cell_type": "markdown",
   "metadata": {
    "slideshow": {
     "slide_type": "slide"
    }
   },
   "source": [
    "## Exercise 3 (5 points)\n",
    "Which municipality has the largest increasing in population from 2010 to 2017?\n",
    "The output should be a string. "
   ]
  },
  {
   "cell_type": "code",
   "execution_count": 5,
   "metadata": {
    "slideshow": {
     "slide_type": "slide"
    }
   },
   "outputs": [
    {
     "data": {
      "text/plain": [
       "'Jersey City'"
      ]
     },
     "execution_count": 5,
     "metadata": {},
     "output_type": "execute_result"
    }
   ],
   "source": [
    "difference = df[\"POP2017\"]-df['POP2010']\n",
    "difference.idxmax()"
   ]
  },
  {
   "cell_type": "markdown",
   "metadata": {
    "slideshow": {
     "slide_type": "slide"
    }
   },
   "source": [
    "## Exercise 4 (5 points)\n",
    "What is the total population of the Essex county in 2017? The output should be an integer. \n",
    "#### Hint\n",
    "1. Create a new dataFrame which selects the rows that are 'Essex' in the column 'County'\n",
    "2. Choose the column 'POP2017' of the new dataFrame\n",
    "3. Apply sum method to get the sum of that column"
   ]
  },
  {
   "cell_type": "code",
   "execution_count": 6,
   "metadata": {
    "slideshow": {
     "slide_type": "slide"
    }
   },
   "outputs": [
    {
     "data": {
      "text/plain": [
       "807959"
      ]
     },
     "execution_count": 6,
     "metadata": {},
     "output_type": "execute_result"
    }
   ],
   "source": [
    "df[df[\"County\"]==\"Essex\"]['POP2017'].sum()\n"
   ]
  },
  {
   "cell_type": "markdown",
   "metadata": {
    "slideshow": {
     "slide_type": "slide"
    }
   },
   "source": [
    "## Exercise 5 (5 points)\n",
    "Find the top five municipalities in population of 2017. List their county and the population of 2017. The output should be a dataFrame with two columns 'County' and 'POP2017', and the municipality as the index.\n",
    "\n",
    "#### Hint\n",
    "1. Sort **df** by the values in the column 'POP2017' in descending order. \n",
    "2. Choose the first 5 rows of the sorted **df**, and select their columns 'County' and 'POP2017'"
   ]
  },
  {
   "cell_type": "code",
   "execution_count": 7,
   "metadata": {
    "scrolled": true,
    "slideshow": {
     "slide_type": "slide"
    }
   },
   "outputs": [],
   "source": [
    "# You should write your answer within this cell\n",
    "# write your code of question 5 here\n",
    "\n"
   ]
  },
  {
   "cell_type": "markdown",
   "metadata": {
    "slideshow": {
     "slide_type": "slide"
    }
   },
   "source": [
    "## Homework"
   ]
  },
  {
   "cell_type": "markdown",
   "metadata": {
    "slideshow": {
     "slide_type": "slide"
    }
   },
   "source": [
    "### Question 1 (6 points)\n",
    "What is the name of the township with the most population in 2010?"
   ]
  },
  {
   "cell_type": "code",
   "execution_count": 12,
   "metadata": {
    "slideshow": {
     "slide_type": "skip"
    }
   },
   "outputs": [
    {
     "data": {
      "text/plain": [
       "'Newark'"
      ]
     },
     "execution_count": 12,
     "metadata": {},
     "output_type": "execute_result"
    }
   ],
   "source": [
    "# You should write your answer within this cell\n",
    "df[\"POP2010\"].idxmax()\n",
    "\n"
   ]
  },
  {
   "cell_type": "markdown",
   "metadata": {
    "slideshow": {
     "slide_type": "slide"
    }
   },
   "source": [
    "### Question 2 (6 points)\n",
    "How many boroughs are there in each county? The output should be a Series with the county name as the index and the number as the value."
   ]
  },
  {
   "cell_type": "code",
   "execution_count": 18,
   "metadata": {
    "slideshow": {
     "slide_type": "skip"
    }
   },
   "outputs": [
    {
     "data": {
      "text/plain": [
       "Borough     254\n",
       "Township    241\n",
       "City         52\n",
       "Town         15\n",
       "Village       3\n",
       "Name: MunicipalType, dtype: int64"
      ]
     },
     "execution_count": 18,
     "metadata": {},
     "output_type": "execute_result"
    }
   ],
   "source": [
    "# You should write your answer within this cell\n",
    "df['MunicipalType'].value_counts()"
   ]
  },
  {
   "cell_type": "markdown",
   "metadata": {
    "slideshow": {
     "slide_type": "slide"
    }
   },
   "source": [
    "### Question 3 (6 points)\n",
    "What is the total population of the Morris county in 2010? The output should be an integer. "
   ]
  },
  {
   "cell_type": "code",
   "execution_count": 10,
   "metadata": {
    "slideshow": {
     "slide_type": "skip"
    }
   },
   "outputs": [],
   "source": [
    "# You should write your answer within this cell\n",
    "# write your code of question 3 here\n",
    "\n"
   ]
  },
  {
   "cell_type": "markdown",
   "metadata": {
    "slideshow": {
     "slide_type": "slide"
    }
   },
   "source": [
    "### Question 4 (7 points)\n",
    "Find the five municipalities with least population of 2010. List their county, municipal type and the population of 2010. The output should be a dataFrame with three columns 'County', 'MunicipalType' and 'POP2010', and the municipality as the index."
   ]
  },
  {
   "cell_type": "code",
   "execution_count": 11,
   "metadata": {
    "slideshow": {
     "slide_type": "skip"
    }
   },
   "outputs": [],
   "source": [
    "# You should write your answer within this cell\n",
    "# write your code of question 4 here\n",
    "\n"
   ]
  }
 ],
 "metadata": {
  "kernelspec": {
   "display_name": "Python 3",
   "language": "python",
   "name": "python3"
  },
  "language_info": {
   "codemirror_mode": {
    "name": "ipython",
    "version": 3
   },
   "file_extension": ".py",
   "mimetype": "text/x-python",
   "name": "python",
   "nbconvert_exporter": "python",
   "pygments_lexer": "ipython3",
   "version": "3.7.4"
  }
 },
 "nbformat": 4,
 "nbformat_minor": 2
}
